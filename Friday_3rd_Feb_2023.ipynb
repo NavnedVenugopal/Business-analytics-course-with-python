{
  "nbformat": 4,
  "nbformat_minor": 0,
  "metadata": {
    "colab": {
      "provenance": []
    },
    "kernelspec": {
      "name": "python3",
      "display_name": "Python 3"
    },
    "language_info": {
      "name": "python"
    }
  },
  "cells": [
    {
      "cell_type": "code",
      "execution_count": 1,
      "metadata": {
        "id": "siBYfyR7aG65"
      },
      "outputs": [],
      "source": [
        "x=[5,4,6,9,7,8,5,2,3,6,5]"
      ]
    },
    {
      "cell_type": "code",
      "source": [
        "def sumfun():\n",
        "  print(sum(x))"
      ],
      "metadata": {
        "id": "QWvblKn-alYv"
      },
      "execution_count": 2,
      "outputs": []
    },
    {
      "cell_type": "code",
      "source": [
        "sumfun()"
      ],
      "metadata": {
        "colab": {
          "base_uri": "https://localhost:8080/"
        },
        "id": "vDV6OMomazU4",
        "outputId": "d8ac30e1-50c4-4a1a-dd46-5e8f7d72c89d"
      },
      "execution_count": 3,
      "outputs": [
        {
          "output_type": "stream",
          "name": "stdout",
          "text": [
            "60\n"
          ]
        }
      ]
    },
    {
      "cell_type": "code",
      "source": [
        "def oddsum():\n",
        "  odd=0\n",
        "  for i in x:\n",
        "    if x[i]%2 !=0:\n",
        "      odd+=x[i]\n",
        "  print(odd)\n",
        "  print(x)"
      ],
      "metadata": {
        "id": "TM_fGTF8a0zg"
      },
      "execution_count": 35,
      "outputs": []
    },
    {
      "cell_type": "code",
      "source": [
        "oddsum()"
      ],
      "metadata": {
        "colab": {
          "base_uri": "https://localhost:8080/"
        },
        "id": "5b0bIq-GfYb9",
        "outputId": "c1575843-4027-4283-f094-0b2e6b78a5e6"
      },
      "execution_count": 36,
      "outputs": [
        {
          "output_type": "stream",
          "name": "stdout",
          "text": [
            "29\n",
            "[5, 4, 6, 9, 7, 8, 5, 2, 3, 6, 5]\n"
          ]
        }
      ]
    },
    {
      "cell_type": "code",
      "source": [
        "def evensum():\n",
        "  even=0\n",
        "  for i in x:\n",
        "    if x[i]%2==0:\n",
        "      even+=x[i]\n",
        "  print(even)\n",
        "  print(x)"
      ],
      "metadata": {
        "id": "YqzFChBsfwe2"
      },
      "execution_count": 37,
      "outputs": []
    },
    {
      "cell_type": "code",
      "source": [
        "evensum()"
      ],
      "metadata": {
        "colab": {
          "base_uri": "https://localhost:8080/"
        },
        "id": "sJDIoTVXgHVW",
        "outputId": "16f15bf7-3a9c-493e-8ee1-5c5e11a64dfd"
      },
      "execution_count": 38,
      "outputs": [
        {
          "output_type": "stream",
          "name": "stdout",
          "text": [
            "38\n",
            "[5, 4, 6, 9, 7, 8, 5, 2, 3, 6, 5]\n"
          ]
        }
      ]
    },
    {
      "cell_type": "code",
      "source": [
        "#Remove vowels\n",
        "v=\"Python is a high-level, general-purpose programming language. Its design philosophy emphasizes code readability with the use of significant indentation. Python is dynamically typed and garbage-collected. It supports multiple programming paradigms, including structured, object-oriented and functional programming\""
      ],
      "metadata": {
        "id": "X7V5FcEJgmRv"
      },
      "execution_count": 70,
      "outputs": []
    },
    {
      "cell_type": "code",
      "source": [
        "def vowelremove():\n",
        "  vowels = ['a', 'e', 'i', 'o', 'u', 'A', 'E', 'I', 'O', 'U']\n",
        "  voweldelete=''\n",
        "  for i in range(len(v)):\n",
        "    if v[i] not in vowels:\n",
        "      voweldelete+=v[i]\n",
        "  print(voweldelete)"
      ],
      "metadata": {
        "id": "nRJ1uHr7gtkV"
      },
      "execution_count": 73,
      "outputs": []
    },
    {
      "cell_type": "code",
      "source": [
        "vowelremove()"
      ],
      "metadata": {
        "colab": {
          "base_uri": "https://localhost:8080/"
        },
        "id": "AImyIhHYl8U_",
        "outputId": "5bd19d07-f0ca-422f-d004-7a6a945f9402"
      },
      "execution_count": 74,
      "outputs": [
        {
          "output_type": "stream",
          "name": "stdout",
          "text": [
            "Pythn s  hgh-lvl, gnrl-prps prgrmmng lngg. ts dsgn phlsphy mphszs cd rdblty wth th s f sgnfcnt ndnttn. Pythn s dynmclly typd nd grbg-cllctd. t spprts mltpl prgrmmng prdgms, ncldng strctrd, bjct-rntd nd fnctnl prgrmmng\n"
          ]
        }
      ]
    }
  ]
}
