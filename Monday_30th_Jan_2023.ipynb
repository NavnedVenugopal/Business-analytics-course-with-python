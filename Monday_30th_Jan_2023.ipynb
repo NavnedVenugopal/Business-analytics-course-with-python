{
  "nbformat": 4,
  "nbformat_minor": 0,
  "metadata": {
    "colab": {
      "provenance": []
    },
    "kernelspec": {
      "name": "python3",
      "display_name": "Python 3"
    },
    "language_info": {
      "name": "python"
    }
  },
  "cells": [
    {
      "cell_type": "code",
      "execution_count": 5,
      "metadata": {
        "colab": {
          "base_uri": "https://localhost:8080/"
        },
        "id": "tnsDTfwsv8JM",
        "outputId": "cb0a708b-d8b9-4366-8478-2bbd2fa8bcdc"
      },
      "outputs": [
        {
          "output_type": "stream",
          "name": "stdout",
          "text": [
            "This is \"Python\" programming\n"
          ]
        }
      ],
      "source": [
        "x=\"This is \\\"Python\\\" programming\"\n",
        "print(x)"
      ]
    },
    {
      "cell_type": "code",
      "source": [
        "x='He\\'s a doctor'\n",
        "print(x)"
      ],
      "metadata": {
        "colab": {
          "base_uri": "https://localhost:8080/"
        },
        "id": "sEGf3SmRxOL3",
        "outputId": "ef888f6d-88d0-4900-94d5-77dae8df55f8"
      },
      "execution_count": 6,
      "outputs": [
        {
          "output_type": "stream",
          "name": "stdout",
          "text": [
            "He's a doctor\n"
          ]
        }
      ]
    },
    {
      "cell_type": "code",
      "source": [
        "x=\"Hello \\n word!\"\n",
        "print(x)"
      ],
      "metadata": {
        "colab": {
          "base_uri": "https://localhost:8080/"
        },
        "id": "J90CozAwyDMh",
        "outputId": "9acd2aaf-675f-4fbb-932c-7c71e3bb2c27"
      },
      "execution_count": 10,
      "outputs": [
        {
          "output_type": "stream",
          "name": "stdout",
          "text": [
            "Hello \n",
            " word!\n"
          ]
        }
      ]
    },
    {
      "cell_type": "code",
      "source": [
        "x=\"Hello \\t world\"\n",
        "print(x)"
      ],
      "metadata": {
        "colab": {
          "base_uri": "https://localhost:8080/"
        },
        "id": "m1Kv576eyLOR",
        "outputId": "592fc882-acc8-41ed-b069-423e0a3830fa"
      },
      "execution_count": 9,
      "outputs": [
        {
          "output_type": "stream",
          "name": "stdout",
          "text": [
            "Hello \t world\n"
          ]
        }
      ]
    },
    {
      "cell_type": "code",
      "source": [
        "print(\"\\\"Navned\\\"Venugopal\")"
      ],
      "metadata": {
        "colab": {
          "base_uri": "https://localhost:8080/"
        },
        "id": "DExkQxBgyUdS",
        "outputId": "779507e9-e2ed-42de-8ab1-29f0446b771b"
      },
      "execution_count": 12,
      "outputs": [
        {
          "output_type": "stream",
          "name": "stdout",
          "text": [
            "\"Navned\"Venugopal\n"
          ]
        }
      ]
    },
    {
      "cell_type": "code",
      "source": [
        "print(\"He\\n is a doctor\")"
      ],
      "metadata": {
        "colab": {
          "base_uri": "https://localhost:8080/"
        },
        "id": "rDrDNBr8zveN",
        "outputId": "50742c3b-f94d-42d3-863a-80f8493d3fe7"
      },
      "execution_count": 18,
      "outputs": [
        {
          "output_type": "stream",
          "name": "stdout",
          "text": [
            "He\n",
            " is a doctor\n"
          ]
        }
      ]
    },
    {
      "cell_type": "code",
      "source": [
        "print(\"Navned\\n Venugopal\")"
      ],
      "metadata": {
        "colab": {
          "base_uri": "https://localhost:8080/"
        },
        "id": "7JJSYuTh0aNp",
        "outputId": "4475ce65-936f-4518-eda0-bf974c57feda"
      },
      "execution_count": 19,
      "outputs": [
        {
          "output_type": "stream",
          "name": "stdout",
          "text": [
            "Navned\n",
            " Venugopal\n"
          ]
        }
      ]
    },
    {
      "cell_type": "code",
      "source": [
        "y=input(\"Enter Name\")\n",
        "z=int(input(\"Enter place\"))\n",
        "x=[\"Menon\",\"John\",\"Mary\",\"David\",\"Adam\"]\n",
        "x.insert(z,y)\n",
        "print(x)"
      ],
      "metadata": {
        "colab": {
          "base_uri": "https://localhost:8080/"
        },
        "id": "zYBykVqj1IFU",
        "outputId": "caf4ddda-bc31-4441-a192-d432294ddd82"
      },
      "execution_count": 29,
      "outputs": [
        {
          "output_type": "stream",
          "name": "stdout",
          "text": [
            "Enter Namesourav\n",
            "Enter place0\n",
            "['sourav', 'Menon', 'John', 'Mary', 'David', 'Adam']\n"
          ]
        }
      ]
    },
    {
      "cell_type": "code",
      "source": [
        "def Abraham():\n",
        "  y=input(\"Enter name:\")\n",
        "  z=int(input(\"Enter index value:\"))\n",
        "  x=[\"Menon\",\"John\",\"Mary\",\"David\",\"Adam\"]\n",
        "  x.insert(z,y)\n",
        "  print(x)"
      ],
      "metadata": {
        "id": "7BMTUJAI10S5"
      },
      "execution_count": 32,
      "outputs": []
    },
    {
      "cell_type": "code",
      "source": [
        "Abraham()"
      ],
      "metadata": {
        "colab": {
          "base_uri": "https://localhost:8080/"
        },
        "id": "1mQKndY--eCL",
        "outputId": "4710d272-e2eb-4442-d030-79ab6b4b8f50"
      },
      "execution_count": 33,
      "outputs": [
        {
          "output_type": "stream",
          "name": "stdout",
          "text": [
            "Enter name:Sourav\n",
            "Enter index value:0\n",
            "['Sourav', 'Menon', 'John', 'Mary', 'David', 'Adam']\n"
          ]
        }
      ]
    },
    {
      "cell_type": "code",
      "source": [
        "def Sharon():\n",
        "  x=int(input(\"Enter number\"))\n",
        "  y=int(input(\"Enter second number\"))\n",
        "  print(\"Addition=\",x+y)\n",
        "  print(\"Subtraction=\",x-y)\n",
        "  print(\"Division=\",x/y)\n",
        "  print(\"Multiplication=\",x*y)\n",
        "  print(\"Square=\",x**y)"
      ],
      "metadata": {
        "id": "X1pxLHXS-k1L"
      },
      "execution_count": 37,
      "outputs": []
    },
    {
      "cell_type": "code",
      "source": [
        "Sharon()"
      ],
      "metadata": {
        "colab": {
          "base_uri": "https://localhost:8080/"
        },
        "id": "rQtaWiuZ_ztK",
        "outputId": "41ffdd28-5614-44ff-a2f1-4141a4f4136d"
      },
      "execution_count": 38,
      "outputs": [
        {
          "output_type": "stream",
          "name": "stdout",
          "text": [
            "Enter number77\n",
            "Enter second number11\n",
            "Addition= 88\n",
            "Subtraction= 66\n",
            "Division= 7.0\n",
            "Multiplication= 847\n",
            "Square= 564154396389137449973\n"
          ]
        }
      ]
    },
    {
      "cell_type": "code",
      "source": [
        "def math(a,b):\n",
        "  print(a,b)"
      ],
      "metadata": {
        "id": "nrac8305_8bW"
      },
      "execution_count": 39,
      "outputs": []
    },
    {
      "cell_type": "code",
      "source": [
        "x=int(input(\"Enter first value\"))\n",
        "y=int(input(\"Enter second value\"))\n",
        "math(x,y)"
      ],
      "metadata": {
        "colab": {
          "base_uri": "https://localhost:8080/"
        },
        "id": "Nr2Nnu8qEMFk",
        "outputId": "62df8683-606c-4496-f9c0-8dbc5b2c7bc3"
      },
      "execution_count": 40,
      "outputs": [
        {
          "output_type": "stream",
          "name": "stdout",
          "text": [
            "Enter first value1\n",
            "Enter second value2\n",
            "1 2\n"
          ]
        }
      ]
    },
    {
      "cell_type": "code",
      "source": [
        "def add(a,b):\n",
        "  print(a+b)"
      ],
      "metadata": {
        "id": "xVJEDIa8EZqa"
      },
      "execution_count": 53,
      "outputs": []
    },
    {
      "cell_type": "code",
      "source": [
        "def subtract(a,b):\n",
        "  print(a-b)"
      ],
      "metadata": {
        "id": "pJ-SzzWCFWo1"
      },
      "execution_count": 56,
      "outputs": []
    },
    {
      "cell_type": "code",
      "source": [
        "def divide(a,b):\n",
        "  print(a/b)"
      ],
      "metadata": {
        "id": "TxxJoCT_FdNV"
      },
      "execution_count": 57,
      "outputs": []
    },
    {
      "cell_type": "code",
      "source": [
        "def multiply(a,b):\n",
        "  print(a*b)"
      ],
      "metadata": {
        "id": "atu79lWCFrkc"
      },
      "execution_count": 58,
      "outputs": []
    },
    {
      "cell_type": "code",
      "source": [
        "x=int(input(\"Enter first value\"))\n",
        "y=int(input(\"Enter second value\"))\n",
        "add(x,y)\n",
        "subtract(x,y)\n",
        "divide(x,y)\n",
        "multiply(x,y)"
      ],
      "metadata": {
        "colab": {
          "base_uri": "https://localhost:8080/"
        },
        "id": "fOkSt8R0FvME",
        "outputId": "35d993a4-8c9c-4b37-a901-f99f4a9ffe7b"
      },
      "execution_count": 60,
      "outputs": [
        {
          "output_type": "stream",
          "name": "stdout",
          "text": [
            "Enter first value5\n",
            "Enter second value4\n",
            "9\n",
            "1\n",
            "1.25\n",
            "20\n"
          ]
        }
      ]
    }
  ]
}