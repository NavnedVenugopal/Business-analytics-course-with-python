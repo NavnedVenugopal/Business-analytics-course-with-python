{
  "nbformat": 4,
  "nbformat_minor": 0,
  "metadata": {
    "colab": {
      "provenance": []
    },
    "kernelspec": {
      "name": "python3",
      "display_name": "Python 3"
    },
    "language_info": {
      "name": "python"
    }
  },
  "cells": [
    {
      "cell_type": "code",
      "execution_count": 1,
      "metadata": {
        "colab": {
          "base_uri": "https://localhost:8080/"
        },
        "id": "tKKS3IZvpiqH",
        "outputId": "a813a372-5503-4ec3-aafd-d9c53fce8ccb"
      },
      "outputs": [
        {
          "output_type": "stream",
          "name": "stdout",
          "text": [
            "10\n"
          ]
        }
      ],
      "source": [
        "x=10\n",
        "print(x)"
      ]
    },
    {
      "cell_type": "code",
      "source": [
        "x=10\n",
        "y=20\n",
        "print(x+y)\n",
        "print(x-y)\n",
        "print(x*y)\n",
        "print(x**y)\n",
        "print(x/y)\n",
        "print(x//y)"
      ],
      "metadata": {
        "colab": {
          "base_uri": "https://localhost:8080/"
        },
        "id": "xUUlyZo4qFrN",
        "outputId": "5371d148-1c3b-4ca5-bbac-afe4e231f746"
      },
      "execution_count": 8,
      "outputs": [
        {
          "output_type": "stream",
          "name": "stdout",
          "text": [
            "30\n",
            "-10\n",
            "200\n",
            "100000000000000000000\n",
            "0.5\n",
            "0\n"
          ]
        }
      ]
    },
    {
      "cell_type": "code",
      "source": [
        "type(x),type(y)"
      ],
      "metadata": {
        "colab": {
          "base_uri": "https://localhost:8080/"
        },
        "id": "CyY9PvyKqlO5",
        "outputId": "83f5422b-7a81-4054-deb7-e0c0b8608162"
      },
      "execution_count": 11,
      "outputs": [
        {
          "output_type": "execute_result",
          "data": {
            "text/plain": [
              "(int, int)"
            ]
          },
          "metadata": {},
          "execution_count": 11
        }
      ]
    },
    {
      "cell_type": "code",
      "source": [
        "x=\"Nav\"\n",
        "type(x)"
      ],
      "metadata": {
        "colab": {
          "base_uri": "https://localhost:8080/"
        },
        "id": "97ZObvU8sAaZ",
        "outputId": "c49a57ef-b972-4d4f-de0e-09119d53e0cd"
      },
      "execution_count": 15,
      "outputs": [
        {
          "output_type": "execute_result",
          "data": {
            "text/plain": [
              "str"
            ]
          },
          "metadata": {},
          "execution_count": 15
        }
      ]
    },
    {
      "cell_type": "code",
      "source": [
        "y=\"ned\"\n",
        "print(x+y)"
      ],
      "metadata": {
        "colab": {
          "base_uri": "https://localhost:8080/"
        },
        "id": "iJExHArCsTTz",
        "outputId": "24460f2e-9d71-4df8-9bc5-8e33e80ff83e"
      },
      "execution_count": 19,
      "outputs": [
        {
          "output_type": "stream",
          "name": "stdout",
          "text": [
            "Navned\n"
          ]
        }
      ]
    },
    {
      "cell_type": "code",
      "source": [
        "z=(x+y)\n",
        "print(z)"
      ],
      "metadata": {
        "colab": {
          "base_uri": "https://localhost:8080/"
        },
        "id": "VgCBIPVfs7Dn",
        "outputId": "68de4047-4a54-49d9-8114-75aff2ad6172"
      },
      "execution_count": 20,
      "outputs": [
        {
          "output_type": "stream",
          "name": "stdout",
          "text": [
            "Navned\n"
          ]
        }
      ]
    },
    {
      "cell_type": "code",
      "source": [
        "x=\"10\"\n",
        "y=\"20\"\n",
        "print(x+y)"
      ],
      "metadata": {
        "colab": {
          "base_uri": "https://localhost:8080/"
        },
        "id": "hAHQa9oJtPDI",
        "outputId": "83ddee03-e8d9-4a41-8b05-1e45eafe8da2"
      },
      "execution_count": 21,
      "outputs": [
        {
          "output_type": "stream",
          "name": "stdout",
          "text": [
            "1020\n"
          ]
        }
      ]
    },
    {
      "cell_type": "code",
      "source": [
        "y=int(x)\n",
        "print(y)\n",
        "print(type(y))"
      ],
      "metadata": {
        "colab": {
          "base_uri": "https://localhost:8080/"
        },
        "id": "IRgXruR4tpTy",
        "outputId": "a58fafd0-3959-44e2-9a3b-6bcc35387e96"
      },
      "execution_count": 31,
      "outputs": [
        {
          "output_type": "stream",
          "name": "stdout",
          "text": [
            "10\n",
            "<class 'int'>\n"
          ]
        }
      ]
    },
    {
      "cell_type": "code",
      "source": [
        "x=int(input())\n",
        "type(x)"
      ],
      "metadata": {
        "colab": {
          "base_uri": "https://localhost:8080/"
        },
        "id": "P8Y3OvFXuS--",
        "outputId": "f79ed710-c74c-46e8-f4a2-1ac0d730c6b9"
      },
      "execution_count": 33,
      "outputs": [
        {
          "name": "stdout",
          "output_type": "stream",
          "text": [
            "1\n"
          ]
        },
        {
          "output_type": "execute_result",
          "data": {
            "text/plain": [
              "int"
            ]
          },
          "metadata": {},
          "execution_count": 33
        }
      ]
    },
    {
      "cell_type": "code",
      "source": [
        "q=input(\"enter a variable\")\n",
        "if type(q)==str:\n",
        "  print(\"its an Alphabet\")\n",
        "elif type(q)==int:\n",
        "  print(\"its an integer\")\n",
        "else:\n",
        "  print(\"get out\")"
      ],
      "metadata": {
        "colab": {
          "base_uri": "https://localhost:8080/"
        },
        "id": "6WjOIFfEvuGP",
        "outputId": "19a22d83-10fe-4d49-ce4c-2a9106a38997"
      },
      "execution_count": 40,
      "outputs": [
        {
          "output_type": "stream",
          "name": "stdout",
          "text": [
            "enter a variable1\n",
            "its an Alphabet\n"
          ]
        }
      ]
    },
    {
      "cell_type": "code",
      "source": [
        "x=int(input(\"enter first number\"))\n",
        "y=int(input(\"enter second number\"))\n",
        "print(\"Addition=\",x+y)\n",
        "print(\"Subtraction=\",x-y)\n",
        "print(\"Multiplicatin=\",x*y)\n",
        "print(\"Divsion=\",x/y)\n",
        "print(\"Square root=\",x**y)\n",
        "print(\"Floor division=\",x//y)\n",
        "print(\"Modulus=\",x%y)"
      ],
      "metadata": {
        "colab": {
          "base_uri": "https://localhost:8080/"
        },
        "id": "wGiq4_SRv-UX",
        "outputId": "3803be1d-a60a-4856-c5fc-231fdda40f5c"
      },
      "execution_count": 43,
      "outputs": [
        {
          "output_type": "stream",
          "name": "stdout",
          "text": [
            "enter first number55\n",
            "enter second number11\n",
            "Addition= 66\n",
            "Subtraction= 44\n",
            "Multiplicatin= 605\n",
            "Divsion= 5.0\n",
            "Square root= 13931233916552734375\n",
            "Floor division= 5\n",
            "Modulus= 0\n"
          ]
        }
      ]
    },
    {
      "cell_type": "code",
      "source": [
        "p=int(input(\"Enter initial principal amount=\"))\n",
        "t=int(input(\"enter time in months=\"))\n",
        "r=int(input(\"enter annual interest=\"))\n",
        "a=p*(1+(r/100)*t)\n",
        "print(\"final amount=\",a)"
      ],
      "metadata": {
        "colab": {
          "base_uri": "https://localhost:8080/"
        },
        "id": "K4-nj6H8xnrR",
        "outputId": "180825e7-670c-42f3-8c97-1e23877a7567"
      },
      "execution_count": 49,
      "outputs": [
        {
          "output_type": "stream",
          "name": "stdout",
          "text": [
            "Enter initial principal amount=1000000\n",
            "enter time in months=12\n",
            "enter annual interest=7\n",
            "final amount= 1840000.0\n"
          ]
        }
      ]
    },
    {
      "cell_type": "code",
      "source": [
        "q=input(\"Please enter your authentication ID:\")\n",
        "if q==\"Navned\":\n",
        "  print(\"Welcome Navned Venugopal\")\n",
        "else:\n",
        "  print(\"You are denied access!\")"
      ],
      "metadata": {
        "colab": {
          "base_uri": "https://localhost:8080/"
        },
        "id": "sqrV7eQFznZL",
        "outputId": "a990aa82-04a4-45e9-9db3-a5d1aa806459"
      },
      "execution_count": 52,
      "outputs": [
        {
          "output_type": "stream",
          "name": "stdout",
          "text": [
            "Please enter your authentication ID:Navned\n",
            "Welcome Navned Venugopal\n"
          ]
        }
      ]
    },
    {
      "cell_type": "code",
      "source": [
        "p=int(input(\"Enter initial Pricipal amount:\"))\n",
        "r=int(input(\"Enter annual inerest:\"))\n",
        "t=int(input(\"Enter time in months:\"))\n",
        "s=p*(r/100)*t\n",
        "n=t/12\n",
        "c=p*((1+(r/n))**(n*t))\n",
        "print(\"value of n is \",n)\n",
        "print(\"Simple interest=\",s)\n",
        "print(\"Compound interest=\",c)"
      ],
      "metadata": {
        "colab": {
          "base_uri": "https://localhost:8080/"
        },
        "id": "Cou50ktB2LT5",
        "outputId": "efe1ba12-ceed-4a1a-8ffb-38c90221de5a"
      },
      "execution_count": 58,
      "outputs": [
        {
          "output_type": "stream",
          "name": "stdout",
          "text": [
            "Enter initial Pricipal amount:100000\n",
            "Enter annual inerest:5\n",
            "Enter time in months:4\n",
            "value of n is  0.3333333333333333\n",
            "Simple interest= 20000.0\n",
            "Compound interest= 4031747.3596635936\n"
          ]
        }
      ]
    },
    {
      "cell_type": "code",
      "source": [],
      "metadata": {
        "id": "L2D4keVI4tBg"
      },
      "execution_count": null,
      "outputs": []
    }
  ]
}