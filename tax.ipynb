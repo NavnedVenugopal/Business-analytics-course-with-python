{
  "nbformat": 4,
  "nbformat_minor": 0,
  "metadata": {
    "colab": {
      "name": "tax.ipynb",
      "provenance": []
    },
    "kernelspec": {
      "name": "python3",
      "display_name": "Python 3"
    },
    "language_info": {
      "name": "python"
    }
  },
  "cells": [
    {
      "cell_type": "code",
      "execution_count": null,
      "metadata": {
        "id": "shmWOG9EmIP-"
      },
      "outputs": [],
      "source": [
        "import matplotlib.pyplot as plt\n",
        "import numpy as np\n",
        "x=int(input(\"enter basic salary\"))\n",
        "y=int(input(\"enter HRA\"))\n",
        "z=int(input(\"enter special allowence\"))\n",
        "w=int(input(\"enter LTA\"))\n",
        "if x<250000:\n",
        "  print(\"no tax\")\n",
        "elif x>250000 and x<500000:\n",
        "  print(\"tax payable amt=\",(x-250000)*5/100)\n",
        "elif x>500001 and x<750000:\n",
        "  print(\"tax payable amt=\",250000*5/100+(x-500000)*7/100)\n",
        "elif x<750001 and x>1000000:\n",
        "  print(\"tax payable amt=\",250000*5/100+250000*7/100+(x-750000)*10/100)\n",
        "else:\n",
        "  print(\"tax payable amt=\",250000*5/100+250000*7/100+250000*10/100+(x-1000000)*30/100)"
      ]
    }
  ]
}