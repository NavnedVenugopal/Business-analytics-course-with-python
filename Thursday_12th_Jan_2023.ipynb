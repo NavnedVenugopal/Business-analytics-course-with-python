{
  "nbformat": 4,
  "nbformat_minor": 0,
  "metadata": {
    "colab": {
      "provenance": []
    },
    "kernelspec": {
      "name": "python3",
      "display_name": "Python 3"
    },
    "language_info": {
      "name": "python"
    }
  },
  "cells": [
    {
      "cell_type": "code",
      "execution_count": 12,
      "metadata": {
        "colab": {
          "base_uri": "https://localhost:8080/"
        },
        "id": "cHU8x26BLf0Z",
        "outputId": "13059c0f-2a3e-42ff-e51f-3e50e8d5ae80"
      },
      "outputs": [
        {
          "output_type": "stream",
          "name": "stdout",
          "text": [
            "enter your salary1300000\n",
            "Tax amount is: 162500.0\n"
          ]
        }
      ],
      "source": [
        "a=int(input(\"enter your salary\"))\n",
        "if a<=250000:\n",
        "  print(\"You are not eligible for tax\")\n",
        "elif a>=250000 and a<=500000:\n",
        "  t=a-250000\n",
        "  p=t*(5/100)\n",
        "  print(\"Tax amount is:\",p)\n",
        "elif a>=500000 and a<=750000:\n",
        "  t=a-500000\n",
        "  p=(t*(10/100))+(t*(5/100))+12500\n",
        "  print(\"Tax amount is:\",p)\n",
        "elif a>=750000 and a<=1000000:\n",
        "  t=a-750000\n",
        "  p=(t*(15/100))+(t*(10/100))+(t*(5/100))+37500\n",
        "  print(\"Tax amounrt is:\",p)\n",
        "elif a>=1000000 and a<=1250000:\n",
        "  t=a-1000000\n",
        "  p=(t*(20/100))+(t*(15/100))+(t*(10/100))+(t*(5/100))+75000\n",
        "  print(\"Tax amounrt is:\",p)\n",
        "elif a>=1250000 and a<=1500000:\n",
        "  t=a-1250000\n",
        "  p=(t*(25/100))+(t*(20/100))+(t*(15/100))+(t*(10/100))+(t*(5/100))+125000\n",
        "  print(\"Tax amount is:\",p)\n",
        "else:\n",
        "  t=a-1500000\n",
        "  p=(t*(30/100))+(t*(25/100))+(t*(20/100))+(t*(15/100))+(t*(10/100))+(t*(5/100))+187500\n",
        "  print(\"Tax amount is:\",p)"
      ]
    },
    {
      "cell_type": "code",
      "source": [
        "a=int(input(\"enter your salary\"))\n",
        "if a<=250000:\n",
        "  print(\"You are not eligible for tax\")\n",
        "elif a>=250000 and a<=500000:\n",
        "  t=a-250000\n",
        "  p=t*(5/100)\n",
        "  print(\"Tax amount is:\",p)\n",
        "elif a>=500000 and a<=750000:\n",
        "  t=a-500000\n",
        "  p=(t*(10/100))+(t*(5/100))\n",
        "  print(\"Tax amount is:\",p)\n",
        "elif a>=750000 and a<=1000000:\n",
        "  t=a-750000\n",
        "  p=(t*(15/100))+(t*(10/100))+(t*(5/100))\n",
        "  print(\"Tax amounrt is:\",p)\n",
        "elif a>=1000000 and a<=1250000:\n",
        "  t=a-1000000\n",
        "  p=(t*(20/100))+(t*(15/100))+(t*(10/100))+(t*(5/100))\n",
        "  print(\"Tax amounrt is:\",p)\n",
        "elif a>=1250000 and a<=1500000:\n",
        "  t=a-1250000\n",
        "  p=(t*(25/100))+(t*(20/100))+(t*(15/100))+(t*(10/100))+(t*(5/100))\n",
        "  print(\"Tax amount is:\",p)\n",
        "else:\n",
        "  t=a-1500000\n",
        "  p=(t*(30/100))+(t*(25/100))+(t*(20/100))+(t*(15/100))+(t*(10/100))+(t*(5/100))\n",
        "  print(\"Tax amount is:\",p)"
      ],
      "metadata": {
        "colab": {
          "base_uri": "https://localhost:8080/"
        },
        "id": "80juN-EeQdWT",
        "outputId": "862eb4ad-d859-499b-94bb-8d1439b53c6b"
      },
      "execution_count": 11,
      "outputs": [
        {
          "output_type": "stream",
          "name": "stdout",
          "text": [
            "enter your salary1300000\n",
            "Tax amount is: 37500.0\n"
          ]
        }
      ]
    }
  ]
}