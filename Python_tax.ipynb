{
  "nbformat": 4,
  "nbformat_minor": 0,
  "metadata": {
    "colab": {
      "name": "Python tax.ipynb",
      "provenance": []
    },
    "kernelspec": {
      "name": "python3",
      "display_name": "Python 3"
    },
    "language_info": {
      "name": "python"
    }
  },
  "cells": [
    {
      "cell_type": "code",
      "execution_count": 6,
      "metadata": {
        "colab": {
          "base_uri": "https://localhost:8080/"
        },
        "id": "vLnxpbjQP36h",
        "outputId": "dd414f53-ff75-4275-e7da-f68c6526d5f1"
      },
      "outputs": [
        {
          "output_type": "stream",
          "name": "stdout",
          "text": [
            "enter 1st number5\n",
            "enter 2nd number4\n",
            "a=addition, s=subtraction, m= multiplication, d=division\n",
            "what to dod\n",
            "1.25\n"
          ]
        }
      ],
      "source": [
        "c=int(input(\"enter 1st number\"))\n",
        "b=int(input(\"enter 2nd number\"))\n",
        "print(\"a=addition, s=subtraction, m= multiplication, d=division\")\n",
        "x=input(\"what to do\")\n",
        "for i in x:\n",
        "  if i==\"a\":\n",
        "    print(c+b)\n",
        "  elif i==\"s\":\n",
        "    print(c-b)\n",
        "  elif i==\"m\":\n",
        "    print(c*b)\n",
        "  elif i==\"d\":\n",
        "    print(c/b)\n",
        "  else:\n",
        "    print(\"wrong\")"
      ]
    },
    {
      "cell_type": "code",
      "source": [
        "45"
      ],
      "metadata": {
        "id": "4EeBA6tCReqK"
      },
      "execution_count": null,
      "outputs": []
    },
    {
      "cell_type": "code",
      "source": [
        "p=int(input(\"enter principal amt\"))\n",
        "n=int(input(\"enter years\"))\n",
        "c=int(input(\"enter rate\"))\n",
        "r=c/100\n",
        "print(\"interest=\",(p*n*r))"
      ],
      "metadata": {
        "colab": {
          "base_uri": "https://localhost:8080/"
        },
        "id": "l4twtib-TlAA",
        "outputId": "a3672c14-6618-4fc2-9366-3eab2b856305"
      },
      "execution_count": 11,
      "outputs": [
        {
          "output_type": "stream",
          "name": "stdout",
          "text": [
            "enter principal amt100\n",
            "enter years5\n",
            "enter rate12\n",
            "interest= 60.0\n"
          ]
        }
      ]
    },
    {
      "cell_type": "code",
      "source": [
        "print(\"Banking marks\")\n",
        "x=int(input(\"enter marks\"))\n",
        "if x==80:\n",
        "    print(\"full marks\")\n",
        "elif x>50:\n",
        "    print(\"pass\")\n",
        "elif x<50:\n",
        "    print(\"fail\")\n",
        "else:\n",
        "    print(\"wrong input\")"
      ],
      "metadata": {
        "colab": {
          "base_uri": "https://localhost:8080/"
        },
        "id": "hAZdBYKTUP82",
        "outputId": "c8a24f29-df71-4ee0-b757-fecbb023913e"
      },
      "execution_count": 18,
      "outputs": [
        {
          "output_type": "stream",
          "name": "stdout",
          "text": [
            "Banking marks\n",
            "enter marks66\n",
            "pass\n"
          ]
        }
      ]
    },
    {
      "cell_type": "code",
      "source": [
        "x=int(input(\"enter your salary\"))\n",
        "if x>=250000:\n",
        "  print(\"you're taxable\")\n",
        "else:\n",
        "  print(\"you're not taxable\")"
      ],
      "metadata": {
        "colab": {
          "base_uri": "https://localhost:8080/"
        },
        "id": "dEKvAudaZO5v",
        "outputId": "c9af0353-1acc-4a82-8c25-54f5f247c7dc"
      },
      "execution_count": 20,
      "outputs": [
        {
          "output_type": "stream",
          "name": "stdout",
          "text": [
            "enter your salary250001\n",
            "you're taxable\n"
          ]
        }
      ]
    },
    {
      "cell_type": "code",
      "source": [
        "x=int(input(\"enter your salary\"))\n",
        "if x>=250000:\n",
        "  print(\"you're taxable\")\n",
        "  print(\"tax=\",x*(10/100))\n",
        "else:\n",
        "  print(\"you're not taxable\")"
      ],
      "metadata": {
        "colab": {
          "base_uri": "https://localhost:8080/"
        },
        "id": "NsPNUJ-ta88d",
        "outputId": "a42828e6-4540-43a4-8730-d6f722c81f80"
      },
      "execution_count": 21,
      "outputs": [
        {
          "output_type": "stream",
          "name": "stdout",
          "text": [
            "enter your salary250000\n",
            "you're taxable\n",
            "tax= 25000.0\n"
          ]
        }
      ]
    },
    {
      "cell_type": "code",
      "source": [
        "x=int(input(\"enter your salary\"))\n",
        "if x>=300000:\n",
        "  print(\"you're taxable\")\n",
        "  print(\"tax=\",(x-250000)*(10/100))\n",
        "else:\n",
        "  print(\"you're not taxable\")"
      ],
      "metadata": {
        "colab": {
          "base_uri": "https://localhost:8080/"
        },
        "id": "YREl66RVbvZs",
        "outputId": "46bb7e14-302c-4da3-f67c-e7398a1b8ab7"
      },
      "execution_count": 24,
      "outputs": [
        {
          "output_type": "stream",
          "name": "stdout",
          "text": [
            "enter your salary300000\n",
            "you're taxable\n",
            "tax= 5000.0\n"
          ]
        }
      ]
    },
    {
      "cell_type": "code",
      "source": [
        "x=int(input(\"enter your salary\"))\n",
        "if x>=300000 and x<=500000:\n",
        "  print(\"you're taxable\")\n",
        "  print(\"tax=\",(x-250000)*(10/100))\n",
        "elif x>50000:\n",
        " print(\"you're taxable\")\n",
        " print(\"tax=\",(x-250000)*(20/100))\n",
        "else:\n",
        "  print(\"you're not taxable\")"
      ],
      "metadata": {
        "colab": {
          "base_uri": "https://localhost:8080/"
        },
        "id": "9ALGflcHevQf",
        "outputId": "3289f77a-cd79-4de9-a9a8-4c1d49deeb07"
      },
      "execution_count": 27,
      "outputs": [
        {
          "output_type": "stream",
          "name": "stdout",
          "text": [
            "enter your salary600000\n",
            "you're taxable\n",
            "tax= 70000.0\n"
          ]
        }
      ]
    },
    {
      "cell_type": "code",
      "source": [
        ""
      ],
      "metadata": {
        "id": "U_Bi8Xj6jL2o"
      },
      "execution_count": null,
      "outputs": []
    }
  ]
}