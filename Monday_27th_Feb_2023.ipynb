{
  "nbformat": 4,
  "nbformat_minor": 0,
  "metadata": {
    "colab": {
      "provenance": []
    },
    "kernelspec": {
      "name": "python3",
      "display_name": "Python 3"
    },
    "language_info": {
      "name": "python"
    }
  },
  "cells": [
    {
      "cell_type": "code",
      "execution_count": 3,
      "metadata": {
        "id": "cnYwxQqzI5NB"
      },
      "outputs": [],
      "source": [
        "import pandas as pd\n",
        "import numpy as np\n",
        "import matplotlib.pyplot as plt"
      ]
    },
    {
      "cell_type": "code",
      "source": [
        "data=pd.read_csv(\"NVDA2.csv\")"
      ],
      "metadata": {
        "id": "-NhmPZERJG3f"
      },
      "execution_count": 4,
      "outputs": []
    },
    {
      "cell_type": "code",
      "source": [
        "data"
      ],
      "metadata": {
        "colab": {
          "base_uri": "https://localhost:8080/",
          "height": 424
        },
        "id": "lZVrrfb1Jfpb",
        "outputId": "56b261b0-f4cb-4a3c-db35-e6a689030e20"
      },
      "execution_count": 5,
      "outputs": [
        {
          "output_type": "execute_result",
          "data": {
            "text/plain": [
              "      Date        Open\n",
              "0      1.0  239.919998\n",
              "1      2.0  242.910004\n",
              "2      3.0  237.559998\n",
              "3      4.0  242.619995\n",
              "4      5.0  233.839996\n",
              "..     ...         ...\n",
              "245  246.0  216.309998\n",
              "246  247.0  210.000000\n",
              "247  248.0  207.070007\n",
              "248  249.0  234.399994\n",
              "249  250.0  232.250000\n",
              "\n",
              "[250 rows x 2 columns]"
            ],
            "text/html": [
              "\n",
              "  <div id=\"df-9905d8d7-c8e0-471a-bd51-d052008565ac\">\n",
              "    <div class=\"colab-df-container\">\n",
              "      <div>\n",
              "<style scoped>\n",
              "    .dataframe tbody tr th:only-of-type {\n",
              "        vertical-align: middle;\n",
              "    }\n",
              "\n",
              "    .dataframe tbody tr th {\n",
              "        vertical-align: top;\n",
              "    }\n",
              "\n",
              "    .dataframe thead th {\n",
              "        text-align: right;\n",
              "    }\n",
              "</style>\n",
              "<table border=\"1\" class=\"dataframe\">\n",
              "  <thead>\n",
              "    <tr style=\"text-align: right;\">\n",
              "      <th></th>\n",
              "      <th>Date</th>\n",
              "      <th>Open</th>\n",
              "    </tr>\n",
              "  </thead>\n",
              "  <tbody>\n",
              "    <tr>\n",
              "      <th>0</th>\n",
              "      <td>1.0</td>\n",
              "      <td>239.919998</td>\n",
              "    </tr>\n",
              "    <tr>\n",
              "      <th>1</th>\n",
              "      <td>2.0</td>\n",
              "      <td>242.910004</td>\n",
              "    </tr>\n",
              "    <tr>\n",
              "      <th>2</th>\n",
              "      <td>3.0</td>\n",
              "      <td>237.559998</td>\n",
              "    </tr>\n",
              "    <tr>\n",
              "      <th>3</th>\n",
              "      <td>4.0</td>\n",
              "      <td>242.619995</td>\n",
              "    </tr>\n",
              "    <tr>\n",
              "      <th>4</th>\n",
              "      <td>5.0</td>\n",
              "      <td>233.839996</td>\n",
              "    </tr>\n",
              "    <tr>\n",
              "      <th>...</th>\n",
              "      <td>...</td>\n",
              "      <td>...</td>\n",
              "    </tr>\n",
              "    <tr>\n",
              "      <th>245</th>\n",
              "      <td>246.0</td>\n",
              "      <td>216.309998</td>\n",
              "    </tr>\n",
              "    <tr>\n",
              "      <th>246</th>\n",
              "      <td>247.0</td>\n",
              "      <td>210.000000</td>\n",
              "    </tr>\n",
              "    <tr>\n",
              "      <th>247</th>\n",
              "      <td>248.0</td>\n",
              "      <td>207.070007</td>\n",
              "    </tr>\n",
              "    <tr>\n",
              "      <th>248</th>\n",
              "      <td>249.0</td>\n",
              "      <td>234.399994</td>\n",
              "    </tr>\n",
              "    <tr>\n",
              "      <th>249</th>\n",
              "      <td>250.0</td>\n",
              "      <td>232.250000</td>\n",
              "    </tr>\n",
              "  </tbody>\n",
              "</table>\n",
              "<p>250 rows × 2 columns</p>\n",
              "</div>\n",
              "      <button class=\"colab-df-convert\" onclick=\"convertToInteractive('df-9905d8d7-c8e0-471a-bd51-d052008565ac')\"\n",
              "              title=\"Convert this dataframe to an interactive table.\"\n",
              "              style=\"display:none;\">\n",
              "        \n",
              "  <svg xmlns=\"http://www.w3.org/2000/svg\" height=\"24px\"viewBox=\"0 0 24 24\"\n",
              "       width=\"24px\">\n",
              "    <path d=\"M0 0h24v24H0V0z\" fill=\"none\"/>\n",
              "    <path d=\"M18.56 5.44l.94 2.06.94-2.06 2.06-.94-2.06-.94-.94-2.06-.94 2.06-2.06.94zm-11 1L8.5 8.5l.94-2.06 2.06-.94-2.06-.94L8.5 2.5l-.94 2.06-2.06.94zm10 10l.94 2.06.94-2.06 2.06-.94-2.06-.94-.94-2.06-.94 2.06-2.06.94z\"/><path d=\"M17.41 7.96l-1.37-1.37c-.4-.4-.92-.59-1.43-.59-.52 0-1.04.2-1.43.59L10.3 9.45l-7.72 7.72c-.78.78-.78 2.05 0 2.83L4 21.41c.39.39.9.59 1.41.59.51 0 1.02-.2 1.41-.59l7.78-7.78 2.81-2.81c.8-.78.8-2.07 0-2.86zM5.41 20L4 18.59l7.72-7.72 1.47 1.35L5.41 20z\"/>\n",
              "  </svg>\n",
              "      </button>\n",
              "      \n",
              "  <style>\n",
              "    .colab-df-container {\n",
              "      display:flex;\n",
              "      flex-wrap:wrap;\n",
              "      gap: 12px;\n",
              "    }\n",
              "\n",
              "    .colab-df-convert {\n",
              "      background-color: #E8F0FE;\n",
              "      border: none;\n",
              "      border-radius: 50%;\n",
              "      cursor: pointer;\n",
              "      display: none;\n",
              "      fill: #1967D2;\n",
              "      height: 32px;\n",
              "      padding: 0 0 0 0;\n",
              "      width: 32px;\n",
              "    }\n",
              "\n",
              "    .colab-df-convert:hover {\n",
              "      background-color: #E2EBFA;\n",
              "      box-shadow: 0px 1px 2px rgba(60, 64, 67, 0.3), 0px 1px 3px 1px rgba(60, 64, 67, 0.15);\n",
              "      fill: #174EA6;\n",
              "    }\n",
              "\n",
              "    [theme=dark] .colab-df-convert {\n",
              "      background-color: #3B4455;\n",
              "      fill: #D2E3FC;\n",
              "    }\n",
              "\n",
              "    [theme=dark] .colab-df-convert:hover {\n",
              "      background-color: #434B5C;\n",
              "      box-shadow: 0px 1px 3px 1px rgba(0, 0, 0, 0.15);\n",
              "      filter: drop-shadow(0px 1px 2px rgba(0, 0, 0, 0.3));\n",
              "      fill: #FFFFFF;\n",
              "    }\n",
              "  </style>\n",
              "\n",
              "      <script>\n",
              "        const buttonEl =\n",
              "          document.querySelector('#df-9905d8d7-c8e0-471a-bd51-d052008565ac button.colab-df-convert');\n",
              "        buttonEl.style.display =\n",
              "          google.colab.kernel.accessAllowed ? 'block' : 'none';\n",
              "\n",
              "        async function convertToInteractive(key) {\n",
              "          const element = document.querySelector('#df-9905d8d7-c8e0-471a-bd51-d052008565ac');\n",
              "          const dataTable =\n",
              "            await google.colab.kernel.invokeFunction('convertToInteractive',\n",
              "                                                     [key], {});\n",
              "          if (!dataTable) return;\n",
              "\n",
              "          const docLinkHtml = 'Like what you see? Visit the ' +\n",
              "            '<a target=\"_blank\" href=https://colab.research.google.com/notebooks/data_table.ipynb>data table notebook</a>'\n",
              "            + ' to learn more about interactive tables.';\n",
              "          element.innerHTML = '';\n",
              "          dataTable['output_type'] = 'display_data';\n",
              "          await google.colab.output.renderOutput(dataTable, element);\n",
              "          const docLink = document.createElement('div');\n",
              "          docLink.innerHTML = docLinkHtml;\n",
              "          element.appendChild(docLink);\n",
              "        }\n",
              "      </script>\n",
              "    </div>\n",
              "  </div>\n",
              "  "
            ]
          },
          "metadata": {},
          "execution_count": 5
        }
      ]
    },
    {
      "cell_type": "code",
      "source": [
        "x_questionbank = data.iloc[0:200 , 0:1].values\n",
        "print(x_questionbank)"
      ],
      "metadata": {
        "colab": {
          "base_uri": "https://localhost:8080/"
        },
        "id": "Hp7M8hokJhoc",
        "outputId": "29c53331-b5e3-46a4-8c58-20afc726487e"
      },
      "execution_count": 7,
      "outputs": [
        {
          "output_type": "stream",
          "name": "stdout",
          "text": [
            "[[  1.]\n",
            " [  2.]\n",
            " [  3.]\n",
            " [  4.]\n",
            " [  5.]\n",
            " [  6.]\n",
            " [  7.]\n",
            " [  8.]\n",
            " [  9.]\n",
            " [ 10.]\n",
            " [ 11.]\n",
            " [ 12.]\n",
            " [ 13.]\n",
            " [ 14.]\n",
            " [ 15.]\n",
            " [ 16.]\n",
            " [ 17.]\n",
            " [ 18.]\n",
            " [ 19.]\n",
            " [ 20.]\n",
            " [ 21.]\n",
            " [ 22.]\n",
            " [ 23.]\n",
            " [ 24.]\n",
            " [ 25.]\n",
            " [ 26.]\n",
            " [ 27.]\n",
            " [ 28.]\n",
            " [ 29.]\n",
            " [ 30.]\n",
            " [ 31.]\n",
            " [ 32.]\n",
            " [ 33.]\n",
            " [ 34.]\n",
            " [ 35.]\n",
            " [ 36.]\n",
            " [ 37.]\n",
            " [ 38.]\n",
            " [ 39.]\n",
            " [ 40.]\n",
            " [ 41.]\n",
            " [ 42.]\n",
            " [ 43.]\n",
            " [ 44.]\n",
            " [ 45.]\n",
            " [ 46.]\n",
            " [ 47.]\n",
            " [ 48.]\n",
            " [ 49.]\n",
            " [ 50.]\n",
            " [ 51.]\n",
            " [ 52.]\n",
            " [ 53.]\n",
            " [ 54.]\n",
            " [ 55.]\n",
            " [ 56.]\n",
            " [ 57.]\n",
            " [ 58.]\n",
            " [ 59.]\n",
            " [ 60.]\n",
            " [ 61.]\n",
            " [ 62.]\n",
            " [ 63.]\n",
            " [ 64.]\n",
            " [ 65.]\n",
            " [ 66.]\n",
            " [ 67.]\n",
            " [ 68.]\n",
            " [ 69.]\n",
            " [ 70.]\n",
            " [ 71.]\n",
            " [ 72.]\n",
            " [ 73.]\n",
            " [ 74.]\n",
            " [ 75.]\n",
            " [ 76.]\n",
            " [ 77.]\n",
            " [ 78.]\n",
            " [ 79.]\n",
            " [ 80.]\n",
            " [ 81.]\n",
            " [ 82.]\n",
            " [ 83.]\n",
            " [ 84.]\n",
            " [ 85.]\n",
            " [ 86.]\n",
            " [ 87.]\n",
            " [ 88.]\n",
            " [ 89.]\n",
            " [ 90.]\n",
            " [ 91.]\n",
            " [ 92.]\n",
            " [ 93.]\n",
            " [ 94.]\n",
            " [ 95.]\n",
            " [ 96.]\n",
            " [ 97.]\n",
            " [ 98.]\n",
            " [ 99.]\n",
            " [100.]\n",
            " [101.]\n",
            " [102.]\n",
            " [103.]\n",
            " [104.]\n",
            " [105.]\n",
            " [106.]\n",
            " [107.]\n",
            " [108.]\n",
            " [109.]\n",
            " [110.]\n",
            " [111.]\n",
            " [112.]\n",
            " [113.]\n",
            " [114.]\n",
            " [115.]\n",
            " [116.]\n",
            " [117.]\n",
            " [118.]\n",
            " [119.]\n",
            " [120.]\n",
            " [121.]\n",
            " [122.]\n",
            " [123.]\n",
            " [124.]\n",
            " [125.]\n",
            " [126.]\n",
            " [127.]\n",
            " [128.]\n",
            " [129.]\n",
            " [130.]\n",
            " [131.]\n",
            " [132.]\n",
            " [133.]\n",
            " [134.]\n",
            " [135.]\n",
            " [136.]\n",
            " [137.]\n",
            " [138.]\n",
            " [139.]\n",
            " [140.]\n",
            " [141.]\n",
            " [142.]\n",
            " [143.]\n",
            " [144.]\n",
            " [145.]\n",
            " [146.]\n",
            " [147.]\n",
            " [148.]\n",
            " [149.]\n",
            " [150.]\n",
            " [151.]\n",
            " [152.]\n",
            " [153.]\n",
            " [154.]\n",
            " [155.]\n",
            " [156.]\n",
            " [157.]\n",
            " [158.]\n",
            " [159.]\n",
            " [160.]\n",
            " [161.]\n",
            " [162.]\n",
            " [163.]\n",
            " [164.]\n",
            " [165.]\n",
            " [166.]\n",
            " [167.]\n",
            " [168.]\n",
            " [169.]\n",
            " [170.]\n",
            " [171.]\n",
            " [172.]\n",
            " [173.]\n",
            " [174.]\n",
            " [175.]\n",
            " [176.]\n",
            " [177.]\n",
            " [178.]\n",
            " [179.]\n",
            " [180.]\n",
            " [181.]\n",
            " [182.]\n",
            " [183.]\n",
            " [184.]\n",
            " [185.]\n",
            " [186.]\n",
            " [187.]\n",
            " [188.]\n",
            " [189.]\n",
            " [190.]\n",
            " [191.]\n",
            " [192.]\n",
            " [193.]\n",
            " [194.]\n",
            " [195.]\n",
            " [196.]\n",
            " [197.]\n",
            " [198.]\n",
            " [199.]\n",
            " [200.]]\n"
          ]
        }
      ]
    },
    {
      "cell_type": "code",
      "source": [
        "x_test = data.iloc[200:249 , 0:1].values\n",
        "print(x_test)"
      ],
      "metadata": {
        "colab": {
          "base_uri": "https://localhost:8080/"
        },
        "id": "spUyc8maNsnB",
        "outputId": "cf136fc4-2444-4ec7-9e05-f6c197b0a6ec"
      },
      "execution_count": 10,
      "outputs": [
        {
          "output_type": "stream",
          "name": "stdout",
          "text": [
            "[[201.]\n",
            " [202.]\n",
            " [203.]\n",
            " [204.]\n",
            " [205.]\n",
            " [206.]\n",
            " [207.]\n",
            " [208.]\n",
            " [209.]\n",
            " [210.]\n",
            " [211.]\n",
            " [212.]\n",
            " [213.]\n",
            " [214.]\n",
            " [215.]\n",
            " [216.]\n",
            " [217.]\n",
            " [218.]\n",
            " [219.]\n",
            " [220.]\n",
            " [221.]\n",
            " [222.]\n",
            " [223.]\n",
            " [224.]\n",
            " [225.]\n",
            " [226.]\n",
            " [227.]\n",
            " [228.]\n",
            " [229.]\n",
            " [230.]\n",
            " [231.]\n",
            " [232.]\n",
            " [233.]\n",
            " [234.]\n",
            " [235.]\n",
            " [236.]\n",
            " [237.]\n",
            " [238.]\n",
            " [239.]\n",
            " [240.]\n",
            " [241.]\n",
            " [242.]\n",
            " [243.]\n",
            " [244.]\n",
            " [245.]\n",
            " [246.]\n",
            " [247.]\n",
            " [248.]\n",
            " [249.]]\n"
          ]
        }
      ]
    },
    {
      "cell_type": "code",
      "source": [
        "y_test = data.iloc[200:249 , 1].values\n",
        "print(y_text)"
      ],
      "metadata": {
        "colab": {
          "base_uri": "https://localhost:8080/"
        },
        "id": "V43FZSTyPiLN",
        "outputId": "5b63acd3-9a5f-4f98-e834-8dcf5a2fddb2"
      },
      "execution_count": 17,
      "outputs": [
        {
          "output_type": "stream",
          "name": "stdout",
          "text": [
            "[185.309998 179.869995 171.460007 168.639999 165.720001 160.639999\n",
            " 161.139999 160.940002 151.960007 150.740005 139.270004 144.020004\n",
            " 143.339996 148.509995 145.669998 144.910004 144.740005 152.839996\n",
            " 155.070007 158.399994 161.       162.779999 168.990005 176.669998\n",
            " 170.360001 170.110001 180.639999 188.270004 189.130005 197.009995\n",
            " 194.619995 199.5      191.699997 196.910004 210.       210.\n",
            " 208.059998 213.820007 223.869995 226.059998 216.899994 215.380005\n",
            " 215.779999 225.490005 221.330002 216.309998 210.       207.070007\n",
            " 234.399994]\n"
          ]
        }
      ]
    },
    {
      "cell_type": "code",
      "source": [
        "y_questionbank = data.iloc[0:200 , 1].values\n",
        "print(y_questionbank)"
      ],
      "metadata": {
        "colab": {
          "base_uri": "https://localhost:8080/"
        },
        "id": "NQdHmBZtP1Zz",
        "outputId": "cff5328b-c813-4486-8c66-edfe28d7362a"
      },
      "execution_count": 12,
      "outputs": [
        {
          "output_type": "stream",
          "name": "stdout",
          "text": [
            "[239.919998 242.910004 237.559998 242.619995 233.839996 228.169998\n",
            " 213.089996 223.869995 225.309998 230.220001 218.690002 215.179993\n",
            " 235.       241.199997 247.990005 265.070007 267.269989 261.26001\n",
            " 261.660004 278.859985 277.559998 286.950012 283.040009 277.820007\n",
            " 273.75     267.279999 272.540009 249.339996 244.410004 239.169998\n",
            " 222.139999 225.369995 217.279999 225.050003 212.       217.199997\n",
            " 225.169998 217.089996 203.029999 192.020004 197.179993 185.979996\n",
            " 189.669998 194.020004 185.410004 194.       199.229996 198.669998\n",
            " 187.360001 180.339996 176.889999 173.470001 162.190002 167.880005\n",
            " 175.089996 180.740005 177.050003 169.369995 173.320007 162.740005\n",
            " 165.100006 160.199997 160.360001 181.860001 189.800003 187.240005\n",
            " 182.919998 190.820007 191.389999 184.720001 187.990005 184.809998\n",
            " 176.       160.       157.309998 160.949997 158.600006 156.479996\n",
            " 164.75     162.259995 165.190002 165.       173.119995 169.\n",
            " 158.139999 153.610001 148.990005 141.75     150.100006 154.559998\n",
            " 154.300003 155.259995 152.679993 145.899994 151.080002 156.589996\n",
            " 163.020004 164.860001 169.470001 178.850006 178.929993 170.190002\n",
            " 168.889999 170.320007 179.75     178.130005 181.820007 181.220001\n",
            " 181.839996 188.490005 188.100006 175.020004 172.520004 176.979996\n",
            " 181.309998 181.600006 187.009995 189.199997 185.229996 183.009995\n",
            " 184.059998 174.899994 169.889999 170.119995 168.440002 178.570007\n",
            " 160.199997 159.600006 153.839996 142.089996 141.       137.309998\n",
            " 135.630005 134.589996 141.570007 143.690002 138.020004 132.539993\n",
            " 130.149994 127.419998 130.119995 132.149994 132.130005 130.699997\n",
            " 124.199997 124.910004 125.07     124.099998 124.480003 120.870003\n",
            " 123.470001 128.789993 129.110001 132.199997 125.050003 120.370003\n",
            " 115.610001 115.790001 109.709999 120.57     115.18     123.440002\n",
            " 118.790001 121.129997 120.980003 125.080002 126.940002 128.690002\n",
            " 136.300003 131.039993 137.779999 138.110001 138.5      130.429993\n",
            " 139.860001 142.279999 148.009995 141.619995 148.       158.070007\n",
            " 162.179993 167.220001 161.619995 157.149994 159.660004 151.470001\n",
            " 153.279999 160.979996 163.179993 160.259995 158.270004 156.970001\n",
            " 169.990005 166.589996 166.789993 165.300003 157.720001 162.729996\n",
            " 171.600006 170.369995]\n"
          ]
        }
      ]
    },
    {
      "cell_type": "code",
      "source": [
        "from sklearn.linear_model import LinearRegression\n",
        "regressor = LinearRegression()\n",
        "regressor.fit(x_questionbank , y_questionbank)"
      ],
      "metadata": {
        "colab": {
          "base_uri": "https://localhost:8080/"
        },
        "id": "_z5JUD5KQAs5",
        "outputId": "0de50953-057c-46dd-dbc9-ba6423fc532a"
      },
      "execution_count": 14,
      "outputs": [
        {
          "output_type": "execute_result",
          "data": {
            "text/plain": [
              "LinearRegression()"
            ]
          },
          "metadata": {},
          "execution_count": 14
        }
      ]
    },
    {
      "cell_type": "code",
      "source": [
        "regressor.predict(x_test)"
      ],
      "metadata": {
        "colab": {
          "base_uri": "https://localhost:8080/"
        },
        "id": "0pEfj4o4RLz9",
        "outputId": "1b8a4aa8-b358-4b42-9eb4-fdbbcd230f4b"
      },
      "execution_count": 15,
      "outputs": [
        {
          "output_type": "execute_result",
          "data": {
            "text/plain": [
              "array([120.07353757, 119.53050412, 118.98747066, 118.4444372 ,\n",
              "       117.90140375, 117.35837029, 116.81533684, 116.27230338,\n",
              "       115.72926993, 115.18623647, 114.64320302, 114.10016956,\n",
              "       113.5571361 , 113.01410265, 112.47106919, 111.92803574,\n",
              "       111.38500228, 110.84196883, 110.29893537, 109.75590192,\n",
              "       109.21286846, 108.669835  , 108.12680155, 107.58376809,\n",
              "       107.04073464, 106.49770118, 105.95466773, 105.41163427,\n",
              "       104.86860082, 104.32556736, 103.7825339 , 103.23950045,\n",
              "       102.69646699, 102.15343354, 101.61040008, 101.06736663,\n",
              "       100.52433317,  99.98129972,  99.43826626,  98.8952328 ,\n",
              "        98.35219935,  97.80916589,  97.26613244,  96.72309898,\n",
              "        96.18006553,  95.63703207,  95.09399862,  94.55096516,\n",
              "        94.0079317 ])"
            ]
          },
          "metadata": {},
          "execution_count": 15
        }
      ]
    },
    {
      "cell_type": "code",
      "source": [
        "plt.scatter(x_questionbank , y_questionbank , color = \"Green\")\n",
        "plt.scatter(x_test , y_test , color = \"Blue\")\n",
        "plt.plot(x_test , regressor.predict(x_test), color = \"Red\")\n",
        "plt.xlabel(\"Package\")\n",
        "plt.ylabel(\"Sales\")"
      ],
      "metadata": {
        "colab": {
          "base_uri": "https://localhost:8080/",
          "height": 296
        },
        "id": "uFCLjYdWRX9r",
        "outputId": "cb9b0826-f44c-48af-b295-cb1a0172cad7"
      },
      "execution_count": 20,
      "outputs": [
        {
          "output_type": "execute_result",
          "data": {
            "text/plain": [
              "Text(0, 0.5, 'Sales')"
            ]
          },
          "metadata": {},
          "execution_count": 20
        },
        {
          "output_type": "display_data",
          "data": {
            "text/plain": [
              "<Figure size 432x288 with 1 Axes>"
            ],
            "image/png": "[encoded data removed]"
          },
          "metadata": {
            "needs_background": "light"
          }
        }
      ]
    },
    {
      "cell_type": "code",
      "source": [],
      "metadata": {
        "id": "iv1TUVFMR_Xz"
      },
      "execution_count": null,
      "outputs": []
    }
  ]
}