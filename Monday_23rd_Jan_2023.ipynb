{
  "nbformat": 4,
  "nbformat_minor": 0,
  "metadata": {
    "colab": {
      "provenance": []
    },
    "kernelspec": {
      "name": "python3",
      "display_name": "Python 3"
    },
    "language_info": {
      "name": "python"
    }
  },
  "cells": [
    {
      "cell_type": "code",
      "execution_count": 6,
      "metadata": {
        "colab": {
          "base_uri": "https://localhost:8080/"
        },
        "id": "GFba2FdHtpu0",
        "outputId": "77fe9cbc-d137-4a4c-f8fe-40172e7a5069"
      },
      "outputs": [
        {
          "output_type": "stream",
          "name": "stdout",
          "text": [
            "6\n"
          ]
        }
      ],
      "source": [
        "#Length of variable\n",
        "x=\"Navned\"\n",
        "print(len(x))"
      ]
    },
    {
      "cell_type": "code",
      "source": [
        "#List \n",
        "x=[\"John\",\"Mary\",\"David\",\"Adam\"]\n",
        "print(x)\n",
        "type(x)"
      ],
      "metadata": {
        "colab": {
          "base_uri": "https://localhost:8080/"
        },
        "id": "4RBoFrJCuvSj",
        "outputId": "467d2a62-5772-4823-baad-ecd923e516e8"
      },
      "execution_count": 5,
      "outputs": [
        {
          "output_type": "stream",
          "name": "stdout",
          "text": [
            "['John', 'Mary', 'David', 'Adam']\n"
          ]
        },
        {
          "output_type": "execute_result",
          "data": {
            "text/plain": [
              "list"
            ]
          },
          "metadata": {},
          "execution_count": 5
        }
      ]
    },
    {
      "cell_type": "code",
      "source": [
        "x=[12,\"Navned\",19,\"24th April 2003\",\"Kottayam,Kerala,India\"]\n",
        "print(\"Roll no.,Name,Age,DOB,Place\")\n",
        "print(x)\n",
        "type(x)\n",
        "print(\"Date of birth is\",x[3])\n",
        "print(\"Place of birtih is\",x[-1])"
      ],
      "metadata": {
        "colab": {
          "base_uri": "https://localhost:8080/"
        },
        "id": "kQu9fielvn7n",
        "outputId": "13d7479f-1183-4bcf-d173-d1065d69895a"
      },
      "execution_count": 18,
      "outputs": [
        {
          "output_type": "stream",
          "name": "stdout",
          "text": [
            "Roll no.,Name,Age,DOB,Place\n",
            "[12, 'Navned', 19, '24th April 2003', 'Kottayam,Kerala,India']\n",
            "Date of birth is 24th April 2003\n",
            "Place of birtih is Kottayam,Kerala,India\n"
          ]
        }
      ]
    },
    {
      "cell_type": "code",
      "source": [
        "x=[]\n",
        "x=input(\"Enter some random nos:\")\n",
        "print(\"The list you created is\",x)\n",
        "l=len(x)\n",
        "print(\"Length of list is\",l)\n",
        "print(\"Numbers between second and second last are\",x[1:-2])"
      ],
      "metadata": {
        "colab": {
          "base_uri": "https://localhost:8080/"
        },
        "id": "nbhgzyv7wQB-",
        "outputId": "44a1d257-c2fa-43a6-9e47-a3959a36dcd4"
      },
      "execution_count": 25,
      "outputs": [
        {
          "output_type": "stream",
          "name": "stdout",
          "text": [
            "Enter some random nos:4,78,12,44,5\n",
            "The list you created is 4,78,12,44,5\n",
            "Length of list is 12\n",
            "Numbers between second and second last are ,78,12,44\n"
          ]
        }
      ]
    },
    {
      "cell_type": "code",
      "source": [
        "x=[1,2,5,4,5,8,5,66]\n",
        "x[0]=0\n",
        "print(x)"
      ],
      "metadata": {
        "colab": {
          "base_uri": "https://localhost:8080/"
        },
        "id": "syhj0iB709Yd",
        "outputId": "75851262-3c6d-4652-d6e6-46fe654e883a"
      },
      "execution_count": 31,
      "outputs": [
        {
          "output_type": "stream",
          "name": "stdout",
          "text": [
            "[0, 2, 5, 4, 5, 8, 5, 66]\n"
          ]
        }
      ]
    },
    {
      "cell_type": "code",
      "source": [
        "#Append function\n",
        "x=[\"John\",\"Mary\",\"David\",\"Adam\"]\n",
        "x.append(\"Navned\")\n",
        "print(x)"
      ],
      "metadata": {
        "colab": {
          "base_uri": "https://localhost:8080/"
        },
        "id": "En0e7y_E1o5s",
        "outputId": "1f65b9dd-035f-421c-c96b-9eabd920a283"
      },
      "execution_count": 50,
      "outputs": [
        {
          "output_type": "stream",
          "name": "stdout",
          "text": [
            "['John', 'Mary', 'David', 'Adam', 'Navned']\n"
          ]
        }
      ]
    },
    {
      "cell_type": "code",
      "source": [
        "x=[]\n",
        "for i in range(4):\n",
        "  y=input(\"Enter name:\")\n",
        "  x.append(y)\n",
        "print(x)"
      ],
      "metadata": {
        "colab": {
          "base_uri": "https://localhost:8080/"
        },
        "id": "8FAIZNzp3Hcs",
        "outputId": "d8e56fdb-3378-4fcb-8497-b485aec21e14"
      },
      "execution_count": 42,
      "outputs": [
        {
          "output_type": "stream",
          "name": "stdout",
          "text": [
            "Enter name:Nav\n",
            "Enter name:Ned\n",
            "Enter name:Na\n",
            "Enter name:vn\n",
            "['Nav', 'Ned', 'Na', 'vn']\n"
          ]
        }
      ]
    },
    {
      "cell_type": "code",
      "source": [
        "x=[]\n",
        "i=0\n",
        "while i<4:\n",
        "  y=input(\"Enter name:\")\n",
        "  x.append(y)\n",
        "  i=i+1\n",
        "print(x)"
      ],
      "metadata": {
        "colab": {
          "base_uri": "https://localhost:8080/"
        },
        "id": "KYpGBCqA36In",
        "outputId": "ec709545-83e2-484a-fb4d-6f337f8cbf11"
      },
      "execution_count": 48,
      "outputs": [
        {
          "output_type": "stream",
          "name": "stdout",
          "text": [
            "Enter name:Nav\n",
            "Enter name:Ned\n",
            "Enter name:na\n",
            "Enter name:vn\n",
            "['Nav', 'Ned', 'na', 'vn']\n"
          ]
        }
      ]
    },
    {
      "cell_type": "code",
      "source": [
        "#Copying list\n",
        "x=[12,34,6,133,56,7]\n",
        "y=x.copy()\n",
        "print(y)"
      ],
      "metadata": {
        "colab": {
          "base_uri": "https://localhost:8080/"
        },
        "id": "Wtn5XO-D5w2d",
        "outputId": "66ff9ec0-b2ab-4949-f206-fc948b7dca31"
      },
      "execution_count": 51,
      "outputs": [
        {
          "output_type": "stream",
          "name": "stdout",
          "text": [
            "[12, 34, 6, 133, 56, 7]\n"
          ]
        }
      ]
    },
    {
      "cell_type": "code",
      "source": [
        "#Extend function\n",
        "x=[\"John\",\"Mary\",\"David\",\"Adam\"]\n",
        "y=['A','B','C']\n",
        "x.extend(y)\n",
        "print(x)"
      ],
      "metadata": {
        "colab": {
          "base_uri": "https://localhost:8080/"
        },
        "id": "Fb9RUyXQ9Pfb",
        "outputId": "6b44abcd-33b7-4f5d-ba82-fd12e7fa288f"
      },
      "execution_count": 55,
      "outputs": [
        {
          "output_type": "stream",
          "name": "stdout",
          "text": [
            "['John', 'Mary', 'David', 'Adam', 'A', 'B', 'C']\n"
          ]
        }
      ]
    },
    {
      "cell_type": "code",
      "source": [
        "x=[1,2,3,2,3,3,3,5,'ABC','DEF']\n",
        "x.count(3)"
      ],
      "metadata": {
        "colab": {
          "base_uri": "https://localhost:8080/"
        },
        "id": "yQXmP7yK-RFJ",
        "outputId": "dd7e8cb1-e54e-4338-8d69-72f65d005c6b"
      },
      "execution_count": 64,
      "outputs": [
        {
          "output_type": "execute_result",
          "data": {
            "text/plain": [
              "4"
            ]
          },
          "metadata": {},
          "execution_count": 64
        }
      ]
    },
    {
      "cell_type": "code",
      "source": [
        "x=[\"John\",\"Mary\",\"David\",\"Adam\"]\n",
        "x[1:3]=['R','D']\n",
        "print(x)"
      ],
      "metadata": {
        "colab": {
          "base_uri": "https://localhost:8080/"
        },
        "id": "cV0l_vRm_BXI",
        "outputId": "3097afec-c205-4f00-f1c1-478ad9aafa50"
      },
      "execution_count": 68,
      "outputs": [
        {
          "output_type": "stream",
          "name": "stdout",
          "text": [
            "['John', 'R', 'D', 'Adam']\n"
          ]
        }
      ]
    },
    {
      "cell_type": "code",
      "source": [
        "#Insert function\n",
        "x=[\"Johnny\",\"May\",\"Davy\",\"Adam Smasher\"]\n",
        "x.insert(2,\"James\")\n",
        "print(x)"
      ],
      "metadata": {
        "colab": {
          "base_uri": "https://localhost:8080/"
        },
        "id": "LcG5DqITAVcv",
        "outputId": "70b3cef1-f44e-4f83-e117-7dac88b727b1"
      },
      "execution_count": 70,
      "outputs": [
        {
          "output_type": "stream",
          "name": "stdout",
          "text": [
            "['Johnny', 'May', 'James', 'Davy', 'Adam Smasher']\n"
          ]
        }
      ]
    },
    {
      "cell_type": "code",
      "source": [
        "#emove function\n",
        "x=[\"Johnny\",\"May\",\"Davy\",\"Adam Smasher\"]\n",
        "x.remove(\"May\")\n",
        "print(x)"
      ],
      "metadata": {
        "colab": {
          "base_uri": "https://localhost:8080/"
        },
        "id": "eJJPB0MSBcK-",
        "outputId": "d8539901-d10e-4883-e0be-9b001f6ce3bd"
      },
      "execution_count": 73,
      "outputs": [
        {
          "output_type": "stream",
          "name": "stdout",
          "text": [
            "['Johnny', 'Davy', 'Adam Smasher']\n"
          ]
        }
      ]
    },
    {
      "cell_type": "code",
      "source": [
        "#Delete function\n",
        "x=[\"Johnny\",\"May\",\"Davy\",\"Adam Smasher\"]\n",
        "del x[0:2]\n",
        "print(x)"
      ],
      "metadata": {
        "colab": {
          "base_uri": "https://localhost:8080/"
        },
        "id": "ZSXKakwHDKAV",
        "outputId": "a5dafd77-3476-4fc6-8451-f292cb8a33df"
      },
      "execution_count": 79,
      "outputs": [
        {
          "output_type": "stream",
          "name": "stdout",
          "text": [
            "['Davy', 'Adam Smasher']\n"
          ]
        }
      ]
    },
    {
      "cell_type": "code",
      "source": [],
      "metadata": {
        "id": "6EwhvRC_DQ9H"
      },
      "execution_count": null,
      "outputs": []
    }
  ]
}